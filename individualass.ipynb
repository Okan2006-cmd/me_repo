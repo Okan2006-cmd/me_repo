{
  "cells": [
    {
      "cell_type": "markdown",
      "metadata": {
        "id": "view-in-github",
        "colab_type": "text"
      },
      "source": [
        "<a href=\"https://colab.research.google.com/github/Okan2006-cmd/me_repo/blob/main/individualass.ipynb\" target=\"_parent\"><img src=\"https://colab.research.google.com/assets/colab-badge.svg\" alt=\"Open In Colab\"/></a>"
      ]
    },
    {
      "cell_type": "code",
      "execution_count": 1,
      "metadata": {
        "colab": {
          "base_uri": "https://localhost:8080/"
        },
        "id": "Blg5DUq5WOsJ",
        "outputId": "11df50a7-42e1-4071-f28a-ec12e1580fc4"
      },
      "outputs": [
        {
          "output_type": "stream",
          "name": "stdout",
          "text": [
            "Welcome to Quiz! Please answer the following questions:\n",
            "\n",
            "What is the capital of Nigeria?\n",
            "A) Lagos\n",
            "B) Abia\n",
            "C) Kano\n",
            "D) Abuja\n",
            "Your answer):D\n",
            "What is 3 + 2?\n",
            "A) 5\n",
            "B) 4\n",
            "C) 3\n",
            "D) 2\n",
            "Your answer):\n",
            "Your answer):\n",
            "What is 5 - 2?\n",
            "A) 5\n",
            "B) 3\n",
            "C) 2\n",
            "D) 1\n",
            "\n",
            "Your score:1/3\n",
            "Congratulation! You passed the quiz.\n"
          ]
        }
      ],
      "source": [
        "\n",
        "\n",
        "\n",
        "\n",
        "\n",
        "\n",
        "\n",
        "\n",
        "\n",
        "\n",
        "\n",
        "def load_question():\n",
        "    \"\"\"Load the quiz questions and answers.\"\"\"\n",
        "    questions = [\n",
        "        {\n",
        "            \"question\": \"What is the capital of Nigeria?\",\n",
        "            \"options\": [\"A) Lagos\", \"B) Abia\", \"C) Kano\", \"D) Abuja\"], # Added comma here\n",
        "            \"answer\": \"D\"\n",
        "        },\n",
        "        {\n",
        "            \"question\": \"What is 3 + 2?\",\n",
        "            \"options\": [\"A) 5\", \"B) 4\", \"C) 3\", \"D) 2\"],  # Added comma here\n",
        "            \"answer\": \"A\"\n",
        "        },\n",
        "        {\n",
        "            \"question\": \"What is 5 - 2?\",\n",
        "            \"options\": [\"A) 5\", \"B) 3\", \"C) 2\", \"D) 1\"],  # Added comma here\n",
        "            \"answer\": \"B\"\n",
        "        }\n",
        "    ]\n",
        "    return questions  # Changed question to questions\n",
        "\n",
        "def display_question(question_data):\n",
        "    print(question_data[\"question\"])  # Accessing the question using the key \"question\"\n",
        "    for option in question_data[\"options\"]:  # Accessing the options using the key \"options\"\n",
        "        print(option)\n",
        "\n",
        "def calculate_score(user_answer, questions):\n",
        "    score = 0  # Initialize score to 0\n",
        "    for i in range(len(user_answer)):\n",
        "        question = questions[i]\n",
        "        if user_answer[i] == question[\"answer\"]:  # Comparing with the correct answer\n",
        "            score += 1\n",
        "    return score\n",
        "\n",
        "def main():\n",
        "    questions = load_question()  # Calling load_question to get the questions\n",
        "    user_answers = []  # Initialize user_answers as an empty list\n",
        "\n",
        "    print(\"Welcome to Quiz! Please answer the following questions:\\n\")\n",
        "\n",
        "    for question in questions:  # Iterating through the questions\n",
        "        display_question(question)\n",
        "        answer = input(\"Your answer):\").strip().upper()\n",
        "        user_answers.append(answer)\n",
        "\n",
        "    score = calculate_score(user_answers, questions)\n",
        "    total_questions = len(questions)\n",
        "    print(f\"\\nYour score:{score}/{total_questions}\")  # Printing the actual score\n",
        "\n",
        "    # check for pass mark\n",
        "    pass_mark = total_questions // 2  # passing mark is 50%\n",
        "    if score >= pass_mark:\n",
        "        print(\"Congratulation! You passed the quiz.\")\n",
        "    else:\n",
        "        print(\"sorry, you failed the quiz\")\n",
        "\n",
        "if __name__ == \"__main__\":  # Corrected the if condition\n",
        "    main()"
      ]
    }
  ],
  "metadata": {
    "colab": {
      "provenance": [],
      "authorship_tag": "ABX9TyO2p0oIifQXudWsAIB3gpOx",
      "include_colab_link": true
    },
    "kernelspec": {
      "display_name": "Python 3",
      "name": "python3"
    },
    "language_info": {
      "name": "python"
    }
  },
  "nbformat": 4,
  "nbformat_minor": 0
}