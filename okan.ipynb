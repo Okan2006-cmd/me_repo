{
  "cells": [
    {
      "cell_type": "markdown",
      "metadata": {
        "id": "view-in-github",
        "colab_type": "text"
      },
      "source": [
        "<a href=\"https://colab.research.google.com/github/Okan2006-cmd/me_repo/blob/main/okan.ipynb\" target=\"_parent\"><img src=\"https://colab.research.google.com/assets/colab-badge.svg\" alt=\"Open In Colab\"/></a>"
      ]
    },
    {
      "cell_type": "code",
      "execution_count": null,
      "metadata": {
        "colab": {
          "base_uri": "https://localhost:8080/"
        },
        "id": "QfeuO8LOOSLU",
        "outputId": "6164217b-7d5e-4d34-a407-635865991c2e"
      },
      "outputs": [
        {
          "name": "stdout",
          "output_type": "stream",
          "text": [
            "wake up at 6:00 AM\n",
            "Exercise(30 minutes)\n",
            "Meditate(15 minute)\n",
            "Breakfast\n",
            "check mails and responds\n",
            "work on some python stuffs\n",
            "lunch break\n",
            "Continue working on programming\n",
            "Dinner\n",
            "Relaxation\n",
            "Prepare for bed(10:00 PM)\n"
          ]
        }
      ],
      "source": [
        "daily_task = (\"wake up at 6:00 AM\",\"Exercise(30 minutes)\",\"Meditate(15 minute)\",\"Breakfast\",\"check mails and responds\",\"work on some python stuffs\",\"lunch break\",\"Continue working on programming\",\"Dinner\",\"Relaxation\",\"Prepare for bed(10:00 PM)\")\n",
        "# print(\"\\ndaily task (tuple):\")\n",
        "for task in daily_task:\n",
        "  print(task)\n",
        "\n",
        "\n"
      ]
    },
    {
      "cell_type": "code",
      "execution_count": 5,
      "metadata": {
        "colab": {
          "base_uri": "https://localhost:8080/"
        },
        "id": "tiCN_JlxVdve",
        "outputId": "7577a8cc-7350-4a58-ca28-51554c395f3a"
      },
      "outputs": [
        {
          "output_type": "stream",
          "name": "stdout",
          "text": [
            "My Skillsare:\n",
            "-typing\n",
            "-programming\n",
            "-learning\n",
            "My Skillsare:\n",
            "-typing\n",
            "-programming\n",
            "-learning\n",
            "-typing\n",
            "-programming\n",
            "-learning\n",
            "My Skills is ['typing', 'programming', 'learning']\n"
          ]
        }
      ],
      "source": [
        "\n",
        "bio_info = {\"name\":\"Okanlawon Ridwon\",\"location\":\"Lagos\",\"about_me\":\"i am a computer programmer\",\"skills\":[\"typing\", \"programming\",\"learning\" ]}\n",
        "for key, value in bio_info.items():\n",
        "  if key == \"skills\":\n",
        "    print(f\"My {key.capitalize()}are:\")\n",
        "    for skills in value:\n",
        "      print(f\"-{skills}\")\n",
        "    print(f\"My {key.capitalize()}are:\")\n",
        "    for language in value:\n",
        "      print(f\"-{language}\")\n",
        "    for name in value:\n",
        "      print(f\"-{name}\")\n",
        "    else:\n",
        "      print(f\"My {key.capitalize()} is {value}\")"
      ]
    },
    {
      "cell_type": "code",
      "execution_count": null,
      "metadata": {
        "id": "j-Re2vL1VeTx"
      },
      "outputs": [],
      "source": []
    },
    {
      "cell_type": "code",
      "execution_count": null,
      "metadata": {
        "id": "B_8NUREkVeWk"
      },
      "outputs": [],
      "source": []
    },
    {
      "cell_type": "code",
      "execution_count": null,
      "metadata": {
        "id": "mhrLEgNjVeaB"
      },
      "outputs": [],
      "source": []
    }
  ],
  "metadata": {
    "colab": {
      "provenance": [],
      "authorship_tag": "ABX9TyP8qiRxuUaOE/pCi2VkUmRs",
      "include_colab_link": true
    },
    "kernelspec": {
      "display_name": "Python 3",
      "name": "python3"
    },
    "language_info": {
      "name": "python"
    }
  },
  "nbformat": 4,
  "nbformat_minor": 0
}