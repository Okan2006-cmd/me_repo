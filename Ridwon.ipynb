{
  "nbformat": 4,
  "nbformat_minor": 0,
  "metadata": {
    "colab": {
      "provenance": [],
      "authorship_tag": "ABX9TyOlvXoHOI47sTx8CqYmWwp4",
      "include_colab_link": true
    },
    "kernelspec": {
      "name": "python3",
      "display_name": "Python 3"
    },
    "language_info": {
      "name": "python"
    }
  },
  "cells": [
    {
      "cell_type": "markdown",
      "metadata": {
        "id": "view-in-github",
        "colab_type": "text"
      },
      "source": [
        "<a href=\"https://colab.research.google.com/github/Okan2006-cmd/me_repo/blob/main/Ridwon.ipynb\" target=\"_parent\"><img src=\"https://colab.research.google.com/assets/colab-badge.svg\" alt=\"Open In Colab\"/></a>"
      ]
    },
    {
      "source": [
        "# sample list of number\n",
        "numbers = [9, 18, 27, 36, 45, 5, 50]\n",
        "\n",
        "\n",
        "\n",
        "# List comprehension with lambda expression to double items in the range 1 - 50\n",
        "# Changed 'number' to 'numbers' to iterate over the correct list\n",
        "doubled_number = [(lambda x:x * 2)(x) for x in numbers if 1 <= x <= 50]\n",
        "\n",
        "# output the result\n",
        "print(doubled_number)"
      ],
      "cell_type": "code",
      "metadata": {
        "colab": {
          "base_uri": "https://localhost:8080/"
        },
        "id": "3MXsD3CxwjI8",
        "outputId": "e2f6ddb0-f326-4fcc-bb5a-d18dce32db58"
      },
      "execution_count": 2,
      "outputs": [
        {
          "output_type": "stream",
          "name": "stdout",
          "text": [
            "[18, 36, 54, 72, 90, 10, 100]\n"
          ]
        }
      ]
    }
  ]
}